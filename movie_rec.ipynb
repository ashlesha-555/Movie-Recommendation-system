{
  "nbformat": 4,
  "nbformat_minor": 0,
  "metadata": {
    "colab": {
      "provenance": [],
      "include_colab_link": true
    },
    "kernelspec": {
      "name": "python3",
      "display_name": "Python 3"
    },
    "language_info": {
      "name": "python"
    }
  },
  "cells": [
    {
      "cell_type": "markdown",
      "metadata": {
        "id": "view-in-github",
        "colab_type": "text"
      },
      "source": [
        "<a href=\"https://colab.research.google.com/github/ashlesha-555/Movie-Recommendation-system/blob/main/movie_rec.ipynb\" target=\"_parent\"><img src=\"https://colab.research.google.com/assets/colab-badge.svg\" alt=\"Open In Colab\"/></a>"
      ]
    },
    {
      "cell_type": "code",
      "source": [
        "import pandas as pd\n",
        "from sklearn.feature_extraction.text import TfidfVectorizer\n",
        "from sklearn.metrics.pairwise import linear_kernel\n",
        "import random\n",
        "\n",
        "# Load your movie dataset into a DataFrame (assuming you've already done this)\n",
        "df = pd.read_csv('dataset.csv')\n",
        "df.dropna(subset=['genre'], inplace=True)\n",
        "\n",
        "# Step 1: User Input - List of Recently Watched Movies\n",
        "recently_watched_movies = [\"Dilwale Dulhania Le Jayenge\", \"Impossible Things\", \"Your Eyes Tell\"]  # Add more movie titles as needed\n",
        "\n",
        "# Step 2: Create a TF-IDF vectorizer and fit it on the genre column\n",
        "tfidf_vectorizer = TfidfVectorizer(token_pattern=r'[a-zA-Z0-9\\-]+')\n",
        "tfidf_matrix = tfidf_vectorizer.fit_transform(df['genre'])\n",
        "\n",
        "# Initialize an empty dictionary to store recommendations for each movie\n",
        "movie_recommendations = {}\n",
        "\n",
        "# Step 3: Calculate the cosine similarity between each recently watched movie and all other movies\n",
        "for current_movie_title in recently_watched_movies:\n",
        "    # Find the index of the current movie\n",
        "    current_movie_index = df.index[df['title'] == current_movie_title][0]\n",
        "\n",
        "    # Get the cosine similarity scores for the current movie\n",
        "    cosine_similarities = linear_kernel(tfidf_matrix[current_movie_index], tfidf_matrix)\n",
        "\n",
        "    # Sort the movies based on cosine similarity\n",
        "    cosine_scores_sorted = sorted(enumerate(cosine_similarities[0]), key=lambda x: x[1], reverse=True)\n",
        "\n",
        "    # Exclude the current movie itself from recommendations\n",
        "    cosine_scores_sorted = [movie for movie in cosine_scores_sorted if movie[0] != current_movie_index]\n",
        "\n",
        "    # Select the top N recommended movies (e.g., top 10)\n",
        "    top_N_recommendations = cosine_scores_sorted[:10]\n",
        "\n",
        "    # Retrieve the movie titles for the recommended movies\n",
        "    recommendations = []\n",
        "    for index, score in top_N_recommendations:\n",
        "        recommendations.append(df['title'][index])\n",
        "\n",
        "    # Store the recommendations for the current movie\n",
        "    movie_recommendations[current_movie_title] = recommendations\n",
        "lists=[]\n",
        "# Step 4: Present the movie recommendations to the user for each movie\n",
        "for current_movie_title, recommendations in movie_recommendations.items():\n",
        "    for i, movie in enumerate(recommendations, start=1):\n",
        "        lists.append(movie)\n",
        "num_values_to_print = 10\n",
        "\n",
        "recommend = random.sample(lists, num_values_to_print)\n",
        "for value in recommend:\n",
        " print(value)\n"
      ],
      "metadata": {
        "colab": {
          "base_uri": "https://localhost:8080/"
        },
        "id": "Heouqw2cZ2lW",
        "outputId": "ec527900-3e72-4a86-d26e-86a9c87e761b"
      },
      "execution_count": null,
      "outputs": [
        {
          "output_type": "stream",
          "name": "stdout",
          "text": [
            "Where Is My Friend's House?\n",
            "Children of Heaven\n",
            "Castaway on the Moon\n",
            "Cinema Paradiso\n",
            "A Street Cat Named Bob\n",
            "Still Walking\n",
            "Our Little Sister\n",
            "Cousins\n",
            "A Special Day\n",
            "The Apartment\n"
          ]
        }
      ]
    },
    {
      "cell_type": "code",
      "source": [],
      "metadata": {
        "id": "A31brDCFaJ9f"
      },
      "execution_count": null,
      "outputs": []
    }
  ]
}